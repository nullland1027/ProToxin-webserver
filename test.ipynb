{
 "cells": [
  {
   "cell_type": "code",
   "id": "initial_id",
   "metadata": {
    "collapsed": true,
    "ExecuteTime": {
     "end_time": "2025-02-22T06:05:58.047212Z",
     "start_time": "2025-02-22T06:05:57.324586Z"
    }
   },
   "source": [
    "from compute.features import FGenerator\n",
    "from compute.predictor import do_predict"
   ],
   "outputs": [
    {
     "name": "stderr",
     "output_type": "stream",
     "text": [
      "/Users/zhanghaohan/dev/anaconda3/envs/streamlit/lib/python3.10/site-packages/tqdm/auto.py:21: TqdmWarning: IProgress not found. Please update jupyter and ipywidgets. See https://ipywidgets.readthedocs.io/en/stable/user_install.html\n",
      "  from .autonotebook import tqdm as notebook_tqdm\n"
     ]
    }
   ],
   "execution_count": 1
  },
  {
   "metadata": {
    "ExecuteTime": {
     "end_time": "2025-02-22T06:05:58.176265Z",
     "start_time": "2025-02-22T06:05:58.161220Z"
    }
   },
   "cell_type": "code",
   "source": [
    "fg = FGenerator(\n",
    "    fasta_file=\"upload/valid_1.fasta\",\n",
    "    feature_selection_file=\"config/fs_88_2024-10-23-10:06:41.json\",\n",
    "    protr_features_file=\"config/selected_protr_features.json\",\n",
    "    protein_db_path=\"data/uniprot_sprot_db_20240911/uniprot_sprot_db\"\n",
    ")"
   ],
   "id": "9bace1b05daf3648",
   "outputs": [],
   "execution_count": 2
  },
  {
   "metadata": {
    "ExecuteTime": {
     "end_time": "2025-02-22T06:05:58.671069Z",
     "start_time": "2025-02-22T06:05:58.506656Z"
    }
   },
   "cell_type": "code",
   "source": [
    "fg.gen_protr()\n",
    "fg.df_protr"
   ],
   "id": "4aa17892549c5531",
   "outputs": [
    {
     "name": "stdout",
     "output_type": "stream",
     "text": [
      "  |======================================================================| 100%\n",
      "  |======================================================================| 100%\n",
      "  |======================================================================| 100%\n",
      "  |======================================================================| 100%\n",
      "  |======================================================================| 100%\n",
      "  |======================================================================| 100%\n",
      "  |======================================================================| 100%\n",
      "  |======================================================================| 100%\n"
     ]
    },
    {
     "data": {
      "text/plain": [
       "     C         Q     Pc1.N      Pc1.A  Pc1.C  prop2.G2.residue25  \\\n",
       "0  0.0  0.021505  1.919688  15.357507    0.0           19.354839   \n",
       "\n",
       "   prop1.G3.residue0  prop7.G3.residue0  prop7.G1.residue25  \\\n",
       "0           1.075269           1.075269           24.731183   \n",
       "\n",
       "   prop5.G2.residue0  ...       AL   QA   CF   SC   CE  GEARY_CIDH920105.lag1  \\\n",
       "0           1.075269  ...  0.01087  0.0  0.0  0.0  0.0               1.035249   \n",
       "\n",
       "   MB_CHAM820102.lag3  MB_CHAM820102.lag30  Schneider.Xd.28  Schneider.Xd.27  \n",
       "0                 NaN                  NaN         0.029548         0.028973  \n",
       "\n",
       "[1 rows x 72 columns]"
      ],
      "text/html": [
       "<div>\n",
       "<style scoped>\n",
       "    .dataframe tbody tr th:only-of-type {\n",
       "        vertical-align: middle;\n",
       "    }\n",
       "\n",
       "    .dataframe tbody tr th {\n",
       "        vertical-align: top;\n",
       "    }\n",
       "\n",
       "    .dataframe thead th {\n",
       "        text-align: right;\n",
       "    }\n",
       "</style>\n",
       "<table border=\"1\" class=\"dataframe\">\n",
       "  <thead>\n",
       "    <tr style=\"text-align: right;\">\n",
       "      <th></th>\n",
       "      <th>C</th>\n",
       "      <th>Q</th>\n",
       "      <th>Pc1.N</th>\n",
       "      <th>Pc1.A</th>\n",
       "      <th>Pc1.C</th>\n",
       "      <th>prop2.G2.residue25</th>\n",
       "      <th>prop1.G3.residue0</th>\n",
       "      <th>prop7.G3.residue0</th>\n",
       "      <th>prop7.G1.residue25</th>\n",
       "      <th>prop5.G2.residue0</th>\n",
       "      <th>...</th>\n",
       "      <th>AL</th>\n",
       "      <th>QA</th>\n",
       "      <th>CF</th>\n",
       "      <th>SC</th>\n",
       "      <th>CE</th>\n",
       "      <th>GEARY_CIDH920105.lag1</th>\n",
       "      <th>MB_CHAM820102.lag3</th>\n",
       "      <th>MB_CHAM820102.lag30</th>\n",
       "      <th>Schneider.Xd.28</th>\n",
       "      <th>Schneider.Xd.27</th>\n",
       "    </tr>\n",
       "  </thead>\n",
       "  <tbody>\n",
       "    <tr>\n",
       "      <th>0</th>\n",
       "      <td>0.0</td>\n",
       "      <td>0.021505</td>\n",
       "      <td>1.919688</td>\n",
       "      <td>15.357507</td>\n",
       "      <td>0.0</td>\n",
       "      <td>19.354839</td>\n",
       "      <td>1.075269</td>\n",
       "      <td>1.075269</td>\n",
       "      <td>24.731183</td>\n",
       "      <td>1.075269</td>\n",
       "      <td>...</td>\n",
       "      <td>0.01087</td>\n",
       "      <td>0.0</td>\n",
       "      <td>0.0</td>\n",
       "      <td>0.0</td>\n",
       "      <td>0.0</td>\n",
       "      <td>1.035249</td>\n",
       "      <td>NaN</td>\n",
       "      <td>NaN</td>\n",
       "      <td>0.029548</td>\n",
       "      <td>0.028973</td>\n",
       "    </tr>\n",
       "  </tbody>\n",
       "</table>\n",
       "<p>1 rows × 72 columns</p>\n",
       "</div>"
      ]
     },
     "execution_count": 3,
     "metadata": {},
     "output_type": "execute_result"
    }
   ],
   "execution_count": 3
  },
  {
   "metadata": {},
   "cell_type": "code",
   "outputs": [],
   "execution_count": null,
   "source": "",
   "id": "c5f31ebc5fdec115"
  }
 ],
 "metadata": {
  "kernelspec": {
   "display_name": "Python 3",
   "language": "python",
   "name": "python3"
  },
  "language_info": {
   "codemirror_mode": {
    "name": "ipython",
    "version": 2
   },
   "file_extension": ".py",
   "mimetype": "text/x-python",
   "name": "python",
   "nbconvert_exporter": "python",
   "pygments_lexer": "ipython2",
   "version": "2.7.6"
  }
 },
 "nbformat": 4,
 "nbformat_minor": 5
}
